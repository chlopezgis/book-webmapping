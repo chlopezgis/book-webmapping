{
 "cells": [
  {
   "cell_type": "markdown",
   "id": "83cbda93-38f3-4348-be2f-070e6ca9ae86",
   "metadata": {},
   "source": [
    "# **Instalación y configuración de Geoserver**\n",
    "\n",
    "Seguido del [manual de usuario](https://docs.geoserver.org/2.26.x/en/user/installation/win_installer.html) de la version 2.26.x de Geoserver. Software necesario:\n",
    "\n",
    "* **[Geoserver 2.26.x](https://geoserver.org/release/stable/)**: Ultíma versión estable a **enero 2025** (descargar el archivo `war`)\n",
    "* **[Java 11](https://adoptium.net/es/temurin/releases/)**: Versión compatible con _Geoserver 2.26.x_\n",
    "* **[Apache Tomcat 9.0.x](https://tomcat.apache.org/tomcat-9.0-doc/index.html)**: Versión compatible con Java 11 y posteriores "
   ]
  },
  {
   "cell_type": "markdown",
   "id": "fd8d684b-d8ee-41cb-97d0-510bd6f8ccb2",
   "metadata": {},
   "source": [
    "## **1. Instalar Java**\n",
    "\n",
    "**`GeoServer`** es una aplicación Java, por lo tanto, necesitamos asegurarnos de que tenemos instalado y funcionando correctamente la máquina virtual de Java en el equipo donde vayamos a instalar el servidor cartográfico. Si tu equipo no tiene Java instalado o carece de la versión adecuada, deberás descargarlo desde el siguiente sitio web recomendado en la página de instalación de GeoServer:\n",
    " \n",
    "🔗 [Adoptium Temurin - Releases](https://adoptium.net/es/temurin/releases/)\n",
    "\n",
    "Seleccionar la versión JDK 11 correspondiente a tu sistema operativo en formato **`msi`**.\n",
    "\n",
    "![image.pn](img/jdk-donwload.PNG)\n",
    "\n",
    "Una vez que hemos comprobado que Java está instalado con la versión correcta nuestro primer requerimiento para instalar el servidor de mapas ya está cumplido. \n",
    "\n",
    ">_Es posible tener instaladas diferentes versiones de Java al mismo tiempo. Más adelante desde el asistente de instalación de GeoServer podremos seleccionar que versión queremos utilizar con GeoServer._"
   ]
  },
  {
   "cell_type": "markdown",
   "id": "91b601ff-fb71-4720-80ab-65cd1c913901",
   "metadata": {},
   "source": [
    "## **2. Instalar Apache Tomcat**\n",
    "\n",
    "Una vez que Java esté correctamente instalado, podemos proceder con la instalación de `Apache Tomcat`. Tomcat es un contenedor de servlets, es decir, un servidor que gestiona los componentes que interactúan con los servlets.\n",
    "\n",
    ">_Los servlets son programas escritos en Java que procesan solicitudes a través del protocolo HTTP. Estos programas reciben peticiones de un navegador web, las procesan y devuelven una respuesta, generalmente en formato HTML. Para llevar a cabo estas tareas, utilizan clases del lenguaje Java. En resumen, los servlets actúan como intermediarios entre el cliente (usualmente un navegador web) y los datos (que generalmente se encuentran almacenados en una base de datos)._\n",
    "\n",
    "La versión de Apache Tomcat que necesitamos depende de la versión de GeoServer que vayamos a utilizar, por lo que se recomienda consultar los requisitos de instalación específicos de GeoServer. En nuestro caso, la versión 2.26.x de GeoServer requiere Tomcat 9.\n",
    " \n",
    "Ir al sitio web de Apache Tomcat y descargar el instalador para Windows 32-bit/64-bit de Apache Tomcat 9. Luego, ejecuta el instalador y acepta la licencia.\n",
    "\n",
    "Durante la instalación, se solicitará que ingreses un usuario y una contraseña para poder acceder a las páginas de administración de Tomcat. Introduce los siguientes valores:\n",
    "\n",
    "* **User name**: `admin`\n",
    "* **Password**: `geoserver`\n",
    "\n",
    "![image.png](img/tomcat-user-pass.PNG)\n",
    "\n",
    "Luego, se te solicitará que selecciones el JDK. En este paso, elige la carpeta correspondiente a JDK 11.\n",
    "\n",
    "![image.png](img/tomcat-select-jdk11.PNG)\n",
    "\n",
    "Todos los demás parámetros permanecerán con su configuración predeterminada.\n",
    "\n",
    "### **Configurar arranque de Tomcat**\n",
    "\n",
    "Podemos configurar Tomcat para que se inicie automáticamente al arrancar Windows:\n",
    "\n",
    "* Abre Ejecutar (Win + R), escribe services.msc y presiona Enter.\n",
    "* Busca Apache Tomcat en la lista de servicios.\n",
    "* Haz clic derecho sobre Apache Tomcat y selecciona Propiedades.\n",
    "* En Tipo de inicio, selecciona Automático.\n",
    "* Haz clic en Aplicar y luego en Aceptar.\n",
    "\n",
    "![image.png](img/tomcat-arranque.PNG)"
   ]
  },
  {
   "cell_type": "markdown",
   "id": "1ebfc606-94dd-4746-b6cd-d00ad2739788",
   "metadata": {},
   "source": [
    "### **Iniciar, detener y reiniciar Tomcat desde la terminal**\n",
    "\n",
    "Una vez registrado como servicio, puedes administrarlo con los siguientes comandos:\n",
    "\n",
    "**Iniciar Tomcat 9**\n",
    "\n",
    "```sh\n",
    "net start tomcat9\n",
    "```\n",
    "\n",
    "**Detener Tomcat 9**\n",
    "\n",
    "```sh\n",
    "net stop tomcat9\n",
    "```\n",
    "\n",
    "**Reiniciar Tomcat 9**\n",
    "\n",
    "```sh\n",
    "net stop tomcat9 && net start tomcat9\n",
    "```"
   ]
  },
  {
   "cell_type": "markdown",
   "id": "482023d4-6dec-42e8-9207-84fc6e12acea",
   "metadata": {},
   "source": [
    "## **3. Instalando Geoserver**\n",
    "\n",
    "Para instalar GeoServer, utilizaremos el instalador en formato **`WAR`**.\n",
    "\n",
    "Una vez descargado, moveremos el archivo a la carpeta **`webapps`** dentro del directorio de instalación de Tomcat. La ruta debe ser similar a la siguiente:\n",
    "\n",
    "```sh\n",
    "C:\\Program Files\\Apache Software Foundation\\Tomcat 9.0\\webapps\n",
    "```\n",
    "\n",
    "![image.png](img/war-geoserver.PNG)\n",
    "\n",
    "Para abrir **`GeoServer`**, primero debemos reiniciar el servicio de Apache Tomcat. Luego, ingresar el siguiente link: http://localhost:8080/geoserver\n",
    "\n",
    "![image.png](img/geoserver-index.PNG)"
   ]
  }
 ],
 "metadata": {
  "kernelspec": {
   "display_name": "Python 3 (ipykernel)",
   "language": "python",
   "name": "python3"
  },
  "language_info": {
   "codemirror_mode": {
    "name": "ipython",
    "version": 3
   },
   "file_extension": ".py",
   "mimetype": "text/x-python",
   "name": "python",
   "nbconvert_exporter": "python",
   "pygments_lexer": "ipython3",
   "version": "3.9.7"
  }
 },
 "nbformat": 4,
 "nbformat_minor": 5
}
