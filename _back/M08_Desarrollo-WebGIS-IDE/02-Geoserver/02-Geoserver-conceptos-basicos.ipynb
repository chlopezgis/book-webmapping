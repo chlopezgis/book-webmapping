{
 "cells": [
  {
   "cell_type": "markdown",
   "id": "6b620c52-f2d8-4352-925b-50662b83bb6d",
   "metadata": {},
   "source": [
    "# **CONCEPTOS BÁSICOS DE GEOSERVER**\n",
    "\n",
    "GeoServer utiliza una gran cantidad de terminología y esta a veces puede resultar confusa, especialmente si no estás acostumbrado a la cartografía web. En este tema veremos algunos de los términos más comunes utilizados en GeoServer.\n",
    "\n",
    "## **1. Espacio de trabajo**\n",
    "\n",
    "Un workspace o espacio de trabajo (a veces también lo veremos denominado como namespace) no es más que un **contenedor aislado y separado donde se agruparán datos similares de un mismo dominio**. Piensa en ello como tu lugar de trabajo donde organizarás todos tus recursos de tu proyecto.\n",
    "\n",
    "_Imagen 1. El espacio de trabajo está compuesto por todos los recursos que configuran un proyecto temático en Geoserver_\n",
    "\n",
    "![image.png](img/geoserver-workspace.PNG)\n",
    "\n",
    ">_La ventaja de utilizar diferentes workspaces es que puedes usar capas con idénticos nombres en distintos espacios de trabajo sin que ello suponga un conflicto entre proyectos._"
   ]
  },
  {
   "cell_type": "markdown",
   "id": "4d2bab83-b550-474b-9eb6-90b5a4367b39",
   "metadata": {},
   "source": [
    "## **1.2. Almacén de datos**\n",
    "\n",
    "`GeoServer` puede **leer multitud de fuentes de datos**, tanto ráster como vectorial: desde archivos locales (por ejemplo, un shapefile), directorios de archivos (por ejemplo, una carpeta de archivos ráster), hasta bases de datos externas. **Los almacenes de datos conectan a estas fuentes de datos**.\n",
    "\n",
    "_Imagen 2. Es necesario definir un almacén de datos antes de crear cualquier capa._\n",
    "\n",
    "![image.pn](img/geoserver-almacen-datos.PNG)\n",
    "\n",
    "Un almacén ofrece la ventaja de poder definir una única conexión (por ejemplo, a una base de datos PostgreSQL/PostGIS) para publicar varios conjuntos de datos desde la misma fuente de datos, como en el caso de una base de datos que contiene muchas tablas."
   ]
  },
  {
   "cell_type": "markdown",
   "id": "20ad8597-e8fb-4dc7-bf48-d3e1ac9997be",
   "metadata": {},
   "source": [
    "## **1.3. Capas**\n",
    "\n",
    "Como en cualquier GIS una capa se refiere a un **conjunto de datos espaciales** (vectorial o ráster) que contiene características geográficas identificables (calles, edificios, parcelas, etc.). Las capas representan cada **característica que debe mostrarse en un mapa**.\n",
    "\n",
    "_Imagen 3. El origen de las capas puede estar en una base de datos o en archivos individuales._\n",
    "\n",
    "![image.png](img/geoserver-capas.PNG)"
   ]
  },
  {
   "cell_type": "markdown",
   "id": "6a4a2a4e-9482-4017-a19b-70fcfd1438d6",
   "metadata": {},
   "source": [
    "## **1.4. Grupo de capas**\n",
    "\n",
    "Un grupo de capas, como su nombre lo indica, es una **colección de capas**. Un grupo de capas **permite\n",
    "solicitar múltiples capas con una única solicitud WMS**. Contiene información sobre las capas que\n",
    "componen la agrupación, el orden en el que se representan, la proyección cartográfica que tendrá el\n",
    "conjunto, los estilos asociados y demás. Esta información puede ser diferente de los valores por defecto\n",
    "indicados para cada capa individual.\n",
    "\n",
    "_Imagen 4. Los grupos de capas facilitan servir múltiples capas en una sola, sin necesidad de publicar individualmente cada\n",
    "una_\n",
    "\n",
    "![imagen.png](img/geoserver-grupo-capas.PNG)"
   ]
  },
  {
   "cell_type": "markdown",
   "id": "d14dcb9c-f62b-4f20-94ca-068eeecad4e6",
   "metadata": {},
   "source": [
    "## **1.5. Estilos**\n",
    "\n",
    "Un estilo es una **directiva de visualización** de cómo renderizar datos geográficos. Puede contener **reglas\n",
    "de color, forma y tamaño, así como basadas en los niveles de zoom**. Cada capa debe estar asociada con\n",
    "al menos un estilo. GeoServer reconoce estilos en el formato SLD, el cual es un estándar OGC. "
   ]
  }
 ],
 "metadata": {
  "kernelspec": {
   "display_name": "Python 3 (ipykernel)",
   "language": "python",
   "name": "python3"
  },
  "language_info": {
   "codemirror_mode": {
    "name": "ipython",
    "version": 3
   },
   "file_extension": ".py",
   "mimetype": "text/x-python",
   "name": "python",
   "nbconvert_exporter": "python",
   "pygments_lexer": "ipython3",
   "version": "3.9.7"
  }
 },
 "nbformat": 4,
 "nbformat_minor": 5
}
