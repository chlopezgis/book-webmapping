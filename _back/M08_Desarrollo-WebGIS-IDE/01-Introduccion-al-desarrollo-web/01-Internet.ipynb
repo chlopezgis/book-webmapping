{
 "cells": [
  {
   "cell_type": "markdown",
   "id": "dd6ae841-91fb-490e-b5cc-1f1839bb271a",
   "metadata": {},
   "source": [
    "# **Internet**\n",
    "\n",
    "## **1. Introducción**\n",
    "\n",
    "Es un sistema global de **redes interconectadas** que utiliza un **lenguaje común** para garantizar la **comunicación** y la **interoperabilidad**. Este lenguaje en común es el protocolo TCP/IP\n",
    "\n",
    "> * _**`Internet`**: Redes Interconectadas (Interconnected Networks)_\n",
    "> * _**`TCP/IP`**: Protocolo de Control de Transmisión / Protocolo de Internet (Transmission Control Protocol / Internet Protocol)_"
   ]
  },
  {
   "cell_type": "code",
   "execution_count": null,
   "id": "ca4111b5-bb8c-43c6-9c6e-ba224baf6ca0",
   "metadata": {},
   "outputs": [],
   "source": []
  }
 ],
 "metadata": {
  "kernelspec": {
   "display_name": "Python 3 (ipykernel)",
   "language": "python",
   "name": "python3"
  },
  "language_info": {
   "codemirror_mode": {
    "name": "ipython",
    "version": 3
   },
   "file_extension": ".py",
   "mimetype": "text/x-python",
   "name": "python",
   "nbconvert_exporter": "python",
   "pygments_lexer": "ipython3",
   "version": "3.9.7"
  }
 },
 "nbformat": 4,
 "nbformat_minor": 5
}
